{
 "cells": [
  {
   "cell_type": "code",
   "execution_count": null,
   "metadata": {},
   "outputs": [],
   "source": [
    "json_config = \"\"\"\n",
    "{\n",
    "  \"settings\": \n",
    "  {\n",
    "    \"IS_LOT\": \"False\",\n",
    "    \"send_to_control_room\": \"False\"\n",
    "  },\n",
    "  \"targets\": \n",
    "  [\n",
    "    {\n",
    "      \"object name\": \"ATLAS25cxa\",\n",
    "      \"RA\": \"12:33:20.83\",\n",
    "      \"Dec\": \"+27:06:34.5\",\n",
    "      \"Mag\": 17.2,\n",
    "      \"Priority\": \"High\",\n",
    "      \"Exp_By_Mag\": \"True\",\n",
    "      \"Filter\": \"up, gp, rp, ip, zp\",\n",
    "      \"Exp_Time\": \"300, 300, 300, 300, 300\",\n",
    "      \"Num_of_Frame\": \"1, 1, 1, 1, 1\",\n",
    "      \"Repeat\": 0\n",
    "    }\n",
    "  ]\n",
    "}\n",
    "\"\"\""
   ]
  },
  {
   "cell_type": "code",
   "execution_count": 5,
   "metadata": {},
   "outputs": [
    {
     "name": "stdout",
     "output_type": "stream",
     "text": [
      "====== Setting ======\n",
      "IS_LOT: False\n",
      "send_to_control_room: False\n",
      "=====================\n",
      "Telescope: SLT\n",
      "=====================\n",
      "您好，若天氣允許，以下是今日的觀測目標:\n",
      "If the weather permits, here are today's observation targets:\n",
      "script:\n",
      "```\n",
      ";===SLT_High_priority===\n",
      "\n",
      "#BINNING 1, 1, 1, 1, 1\n",
      "#FILTER up_Astrodon_2018, gp_Astrodon_2018, rp_Astrodon_2018, ip_Astrodon_2018, zp_Astrodon_2018\n",
      "#INTERVAL 300, 300, 300, 300, 300\n",
      "#COUNT 2, 1, 1, 1, 1\n",
      ";# mag: 17.2 mag\n",
      "ATLAS25ca\t12:33:20.83\t+27:06:34.5\n",
      "#WAITFOR 1\n",
      "\n",
      "\n",
      "```\n",
      "=====================\n"
     ]
    }
   ],
   "source": [
    "import trigger_for_ipynb as tr\n",
    "tr.trigger(json_config)"
   ]
  }
 ],
 "metadata": {
  "kernelspec": {
   "display_name": "base",
   "language": "python",
   "name": "python3"
  },
  "language_info": {
   "codemirror_mode": {
    "name": "ipython",
    "version": 3
   },
   "file_extension": ".py",
   "mimetype": "text/x-python",
   "name": "python",
   "nbconvert_exporter": "python",
   "pygments_lexer": "ipython3",
   "version": "3.12.2"
  }
 },
 "nbformat": 4,
 "nbformat_minor": 2
}
